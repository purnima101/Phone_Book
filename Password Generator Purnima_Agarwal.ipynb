{
 "cells": [
  {
   "cell_type": "markdown",
   "id": "c3f5934b",
   "metadata": {},
   "source": [
    "# Random Password Generator\n"
   ]
  },
  {
   "cell_type": "code",
   "execution_count": 29,
   "id": "9c29e3ee",
   "metadata": {},
   "outputs": [
    {
     "name": "stdout",
     "output_type": "stream",
     "text": [
      "Enter the length of password: 12\n",
      "Random password is: )zWSTdLGAk*z\n"
     ]
    }
   ],
   "source": [
    "import random\n",
    "import string\n",
    "\n",
    "    \n",
    "def password(n):\n",
    "    p=''\n",
    "    characters = string.ascii_letters + string.digits + string.punctuation\n",
    "    for i in range(n):\n",
    "        p=p+''.join(random.choice(characters))\n",
    "    print(\"Random password is:\", p)\n",
    "\n",
    "n=input(\"Enter the length of password: \")\n",
    "if(n.isnumeric() == False or n==\"\"):\n",
    "    print(\"Wrong input\")\n",
    "else:\n",
    "    n=int(n)\n",
    "    password(n)  "
   ]
  },
  {
   "cell_type": "code",
   "execution_count": null,
   "id": "693ea099",
   "metadata": {},
   "outputs": [],
   "source": [
    "\n"
   ]
  }
 ],
 "metadata": {
  "kernelspec": {
   "display_name": "Python 3 (ipykernel)",
   "language": "python",
   "name": "python3"
  },
  "language_info": {
   "codemirror_mode": {
    "name": "ipython",
    "version": 3
   },
   "file_extension": ".py",
   "mimetype": "text/x-python",
   "name": "python",
   "nbconvert_exporter": "python",
   "pygments_lexer": "ipython3",
   "version": "3.8.10"
  }
 },
 "nbformat": 4,
 "nbformat_minor": 5
}
